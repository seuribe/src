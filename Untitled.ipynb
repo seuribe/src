{
 "cells": [
  {
   "cell_type": "code",
   "execution_count": 1,
   "id": "8895c93f-f85a-4834-a982-9369285a7be7",
   "metadata": {},
   "outputs": [
    {
     "name": "stdout",
     "output_type": "stream",
     "text": [
      "+----+\n",
      "|···♚|\n",
      "|···♟|\n",
      "|····|\n",
      "|·♖·♙|\n",
      "+----+\n"
     ]
    }
   ],
   "source": [
    "from chess import *\n",
    "from rl import *\n",
    "\n",
    "from chess import Color, Piece, BoardPiece, Board, Move, Position\n",
    "from rl import *\n",
    "\n",
    "WHITE_PAWN_POS = Position(3,3)\n",
    "WHITE_ROOK_POS = Position(3,1)\n",
    "BLACK_PAWN_POS = Position(1,3)\n",
    "BLACK_KING_POS = Position(0,3)\n",
    "\n",
    "board = Board(4)\n",
    "whitePawn = BoardPiece(Piece.Pawn, Color.White, WHITE_PAWN_POS)\n",
    "whiteRook = BoardPiece(Piece.Rook, Color.White, WHITE_ROOK_POS)\n",
    "blackPawn = BoardPiece(Piece.Pawn, Color.Black, BLACK_PAWN_POS)\n",
    "blackKing = BoardPiece(Piece.King, Color.Black, BLACK_KING_POS)\n",
    "board.addPiece(whitePawn)\n",
    "board.addPiece(whiteRook)\n",
    "board.addPiece(blackPawn)\n",
    "board.addPiece(blackKing)\n",
    "print(board)"
   ]
  },
  {
   "cell_type": "code",
   "execution_count": 2,
   "id": "e6151686-0771-46a6-8bd5-64ffc5127d2e",
   "metadata": {},
   "outputs": [
    {
     "data": {
      "text/plain": [
       "False"
      ]
     },
     "execution_count": 2,
     "metadata": {},
     "output_type": "execute_result"
    }
   ],
   "source": [
    "board.isChecked(Color.White)"
   ]
  },
  {
   "cell_type": "code",
   "execution_count": 3,
   "id": "a2db7bc4-d467-4044-9f3e-ec3d4d23cd55",
   "metadata": {},
   "outputs": [
    {
     "data": {
      "text/plain": [
       "False"
      ]
     },
     "execution_count": 3,
     "metadata": {},
     "output_type": "execute_result"
    }
   ],
   "source": [
    "board.isChecked(Color.Black)"
   ]
  },
  {
   "cell_type": "code",
   "execution_count": 4,
   "id": "4a58c28c-aa1e-495f-9566-00d9e566edf6",
   "metadata": {},
   "outputs": [
    {
     "name": "stdout",
     "output_type": "stream",
     "text": [
      "+----+\n",
      "|·♚··|\n",
      "|···♟|\n",
      "|····|\n",
      "|·♖·♙|\n",
      "+----+\n"
     ]
    }
   ],
   "source": [
    "BLACK_KING_TH_POS = Position(0,1)\n",
    "board.removePiece(blackKing)\n",
    "blackKing = BoardPiece(Piece.King, Color.Black, BLACK_KING_TH_POS)\n",
    "\n",
    "board.addPiece(blackKing)\n",
    "print(board)\n"
   ]
  },
  {
   "cell_type": "code",
   "execution_count": 5,
   "id": "5d802935-c42d-422e-88d0-245b659074b5",
   "metadata": {},
   "outputs": [
    {
     "data": {
      "text/plain": [
       "True"
      ]
     },
     "execution_count": 5,
     "metadata": {},
     "output_type": "execute_result"
    }
   ],
   "source": [
    "board.isChecked(Color.Black)"
   ]
  },
  {
   "cell_type": "code",
   "execution_count": 6,
   "id": "bbd86c40-4be3-4cfd-892b-627a78b4f7a8",
   "metadata": {},
   "outputs": [
    {
     "data": {
      "text/plain": [
       "[Move(orig=Position(row=3, col=1), dest=Position(row=3, col=0)),\n",
       " Move(orig=Position(row=3, col=1), dest=Position(row=3, col=2)),\n",
       " Move(orig=Position(row=3, col=1), dest=Position(row=2, col=1)),\n",
       " Move(orig=Position(row=3, col=1), dest=Position(row=1, col=1)),\n",
       " Move(orig=Position(row=3, col=1), dest=Position(row=0, col=1))]"
      ]
     },
     "execution_count": 6,
     "metadata": {},
     "output_type": "execute_result"
    }
   ],
   "source": [
    "board.possibleMoves(whiteRook)"
   ]
  }
 ],
 "metadata": {
  "kernelspec": {
   "display_name": "Python 3 (ipykernel)",
   "language": "python",
   "name": "python3"
  },
  "language_info": {
   "codemirror_mode": {
    "name": "ipython",
    "version": 3
   },
   "file_extension": ".py",
   "mimetype": "text/x-python",
   "name": "python",
   "nbconvert_exporter": "python",
   "pygments_lexer": "ipython3",
   "version": "3.12.3"
  }
 },
 "nbformat": 4,
 "nbformat_minor": 5
}
